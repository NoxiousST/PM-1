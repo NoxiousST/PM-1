{
 "cells": [
  {
   "cell_type": "code",
   "metadata": {
    "id": "2DKDpXsb8Tym",
    "ExecuteTime": {
     "end_time": "2025-03-11T12:56:08.188674Z",
     "start_time": "2025-03-11T12:56:08.174289Z"
    }
   },
   "source": [
    "import numpy as np\n",
    "import matplotlib.pyplot as plt\n",
    "import pandas as pd"
   ],
   "outputs": [],
   "execution_count": 1
  },
  {
   "cell_type": "code",
   "metadata": {
    "id": "JPDFYyq7G_RF",
    "ExecuteTime": {
     "end_time": "2025-03-11T12:56:10.041004Z",
     "start_time": "2025-03-11T12:56:10.003155Z"
    }
   },
   "source": [
    "dataset = pd.read_csv('Data.csv')\n",
    "x = dataset.iloc[:, :-1].values\n",
    "y = dataset.iloc[:, -1].values"
   ],
   "outputs": [],
   "execution_count": 2
  },
  {
   "cell_type": "code",
   "metadata": {
    "colab": {
     "base_uri": "https://localhost:8080/"
    },
    "id": "kb9GarmBH-8Z",
    "outputId": "53bdf05b-7e65-4283-dcb3-dba26a13bf06",
    "ExecuteTime": {
     "end_time": "2025-03-11T12:56:10.081064Z",
     "start_time": "2025-03-11T12:56:10.065140Z"
    }
   },
   "source": [
    "print(x)"
   ],
   "outputs": [
    {
     "name": "stdout",
     "output_type": "stream",
     "text": [
      "[['France' 44.0 72000.0]\n",
      " ['Spain' 27.0 48000.0]\n",
      " ['Germany' 30.0 54000.0]\n",
      " ['Spain' 38.0 61000.0]\n",
      " ['Germany' 40.0 nan]\n",
      " ['France' 35.0 58000.0]\n",
      " ['Spain' nan 52000.0]\n",
      " ['France' 48.0 79000.0]\n",
      " ['Germany' 50.0 83000.0]\n",
      " ['France' 37.0 67000.0]]\n"
     ]
    }
   ],
   "execution_count": 3
  },
  {
   "cell_type": "code",
   "metadata": {
    "colab": {
     "base_uri": "https://localhost:8080/"
    },
    "id": "fPYNdjZzIR6J",
    "outputId": "9e1491f9-3a2c-4cba-8354-b43b36ebb3a1",
    "ExecuteTime": {
     "end_time": "2025-03-11T12:56:10.644048Z",
     "start_time": "2025-03-11T12:56:10.629161Z"
    }
   },
   "source": [
    "print(y)"
   ],
   "outputs": [
    {
     "name": "stdout",
     "output_type": "stream",
     "text": [
      "['No' 'Yes' 'No' 'No' 'Yes' 'Yes' 'No' 'Yes' 'No' 'Yes']\n"
     ]
    }
   ],
   "execution_count": 4
  },
  {
   "cell_type": "code",
   "metadata": {
    "id": "tliVpM6bIgu9",
    "ExecuteTime": {
     "end_time": "2025-03-11T12:56:11.804632Z",
     "start_time": "2025-03-11T12:56:10.763110Z"
    }
   },
   "source": [
    "from sklearn.impute import SimpleImputer\n",
    "imputer = SimpleImputer(missing_values=np.nan, strategy='mean')\n",
    "imputer.fit(x[:, 1:3])\n",
    "x[:, 1:3] = imputer.transform(x[:, 1:3])"
   ],
   "outputs": [],
   "execution_count": 5
  },
  {
   "cell_type": "code",
   "metadata": {
    "colab": {
     "base_uri": "https://localhost:8080/"
    },
    "id": "-dmcXYMLJcDf",
    "outputId": "f93e7292-d61c-49a6-aaf0-06cb535965f7",
    "ExecuteTime": {
     "end_time": "2025-03-11T12:56:11.840215Z",
     "start_time": "2025-03-11T12:56:11.826797Z"
    }
   },
   "source": [
    "print(x)"
   ],
   "outputs": [
    {
     "name": "stdout",
     "output_type": "stream",
     "text": [
      "[['France' 44.0 72000.0]\n",
      " ['Spain' 27.0 48000.0]\n",
      " ['Germany' 30.0 54000.0]\n",
      " ['Spain' 38.0 61000.0]\n",
      " ['Germany' 40.0 63777.77777777778]\n",
      " ['France' 35.0 58000.0]\n",
      " ['Spain' 38.77777777777778 52000.0]\n",
      " ['France' 48.0 79000.0]\n",
      " ['Germany' 50.0 83000.0]\n",
      " ['France' 37.0 67000.0]]\n"
     ]
    }
   ],
   "execution_count": 6
  },
  {
   "cell_type": "code",
   "metadata": {
    "id": "PTFBpzBBJt65",
    "ExecuteTime": {
     "end_time": "2025-03-11T12:56:11.925667Z",
     "start_time": "2025-03-11T12:56:11.890343Z"
    }
   },
   "source": [
    "from sklearn.compose import ColumnTransformer\n",
    "from sklearn.preprocessing import OneHotEncoder\n",
    "ct = ColumnTransformer(transformers=[('encoder', OneHotEncoder(), [0])], remainder='passthrough')\n",
    "x = np.array(ct.fit_transform(x))"
   ],
   "outputs": [],
   "execution_count": 7
  },
  {
   "cell_type": "code",
   "metadata": {
    "colab": {
     "base_uri": "https://localhost:8080/"
    },
    "id": "P_9GQ4P3KuNV",
    "outputId": "c0e1c282-d5fa-4750-f34b-1a9a41c1f7b8",
    "ExecuteTime": {
     "end_time": "2025-03-11T12:56:11.979322Z",
     "start_time": "2025-03-11T12:56:11.962508Z"
    }
   },
   "source": [
    "print(x)"
   ],
   "outputs": [
    {
     "name": "stdout",
     "output_type": "stream",
     "text": [
      "[[1.0 0.0 0.0 44.0 72000.0]\n",
      " [0.0 0.0 1.0 27.0 48000.0]\n",
      " [0.0 1.0 0.0 30.0 54000.0]\n",
      " [0.0 0.0 1.0 38.0 61000.0]\n",
      " [0.0 1.0 0.0 40.0 63777.77777777778]\n",
      " [1.0 0.0 0.0 35.0 58000.0]\n",
      " [0.0 0.0 1.0 38.77777777777778 52000.0]\n",
      " [1.0 0.0 0.0 48.0 79000.0]\n",
      " [0.0 1.0 0.0 50.0 83000.0]\n",
      " [1.0 0.0 0.0 37.0 67000.0]]\n"
     ]
    }
   ],
   "execution_count": 8
  },
  {
   "cell_type": "code",
   "metadata": {
    "id": "c73-6zWjLBgo",
    "ExecuteTime": {
     "end_time": "2025-03-11T12:56:12.045597Z",
     "start_time": "2025-03-11T12:56:12.031502Z"
    }
   },
   "source": [
    "from sklearn.preprocessing import LabelEncoder\n",
    "le = LabelEncoder()\n",
    "y = le.fit_transform(y)"
   ],
   "outputs": [],
   "execution_count": 9
  },
  {
   "cell_type": "code",
   "metadata": {
    "colab": {
     "base_uri": "https://localhost:8080/"
    },
    "id": "Go3MqGP-LS5P",
    "outputId": "92ba5c9f-b17d-4465-d95a-00cd1ff6a6d1",
    "ExecuteTime": {
     "end_time": "2025-03-11T12:56:12.127586Z",
     "start_time": "2025-03-11T12:56:12.111914Z"
    }
   },
   "source": [
    "print(y)"
   ],
   "outputs": [
    {
     "name": "stdout",
     "output_type": "stream",
     "text": [
      "[0 1 0 0 1 1 0 1 0 1]\n"
     ]
    }
   ],
   "execution_count": 10
  },
  {
   "cell_type": "code",
   "metadata": {
    "id": "-fBBg0UWLryt",
    "ExecuteTime": {
     "end_time": "2025-03-11T12:56:12.219640Z",
     "start_time": "2025-03-11T12:56:12.205029Z"
    }
   },
   "source": [
    "from sklearn.model_selection import train_test_split\n",
    "x_train, x_test, y_train, y_test = train_test_split(x, y, test_size=0.2, random_state=1)"
   ],
   "outputs": [],
   "execution_count": 11
  },
  {
   "cell_type": "code",
   "metadata": {
    "colab": {
     "base_uri": "https://localhost:8080/"
    },
    "id": "h4nkKTl6MXuJ",
    "outputId": "587920af-df0d-4ac3-ab40-188dde69d41f",
    "ExecuteTime": {
     "end_time": "2025-03-11T12:56:12.256613Z",
     "start_time": "2025-03-11T12:56:12.240032Z"
    }
   },
   "source": [
    "print(x_train)"
   ],
   "outputs": [
    {
     "name": "stdout",
     "output_type": "stream",
     "text": [
      "[[0.0 0.0 1.0 38.77777777777778 52000.0]\n",
      " [0.0 1.0 0.0 40.0 63777.77777777778]\n",
      " [1.0 0.0 0.0 44.0 72000.0]\n",
      " [0.0 0.0 1.0 38.0 61000.0]\n",
      " [0.0 0.0 1.0 27.0 48000.0]\n",
      " [1.0 0.0 0.0 48.0 79000.0]\n",
      " [0.0 1.0 0.0 50.0 83000.0]\n",
      " [1.0 0.0 0.0 35.0 58000.0]]\n"
     ]
    }
   ],
   "execution_count": 12
  },
  {
   "cell_type": "code",
   "metadata": {
    "colab": {
     "base_uri": "https://localhost:8080/"
    },
    "id": "oVehWU-sMoX7",
    "outputId": "35e78fd9-de3f-468d-e9ff-8809e7d78193",
    "ExecuteTime": {
     "end_time": "2025-03-11T12:56:12.341100Z",
     "start_time": "2025-03-11T12:56:12.328276Z"
    }
   },
   "source": [
    "print(x_test)"
   ],
   "outputs": [
    {
     "name": "stdout",
     "output_type": "stream",
     "text": [
      "[[0.0 1.0 0.0 30.0 54000.0]\n",
      " [1.0 0.0 0.0 37.0 67000.0]]\n"
     ]
    }
   ],
   "execution_count": 13
  },
  {
   "cell_type": "code",
   "metadata": {
    "colab": {
     "base_uri": "https://localhost:8080/"
    },
    "id": "HOqPlt8xMwaD",
    "outputId": "7928f5a3-7c4e-494a-cf22-3369a11a03d6",
    "ExecuteTime": {
     "end_time": "2025-03-11T12:56:12.440020Z",
     "start_time": "2025-03-11T12:56:12.428616Z"
    }
   },
   "source": [
    "print(y_train)"
   ],
   "outputs": [
    {
     "name": "stdout",
     "output_type": "stream",
     "text": [
      "[0 1 0 0 1 1 0 1]\n"
     ]
    }
   ],
   "execution_count": 14
  },
  {
   "cell_type": "code",
   "metadata": {
    "colab": {
     "base_uri": "https://localhost:8080/"
    },
    "id": "KjwFgNXiM15F",
    "outputId": "ad8a2ea2-691c-43ac-dc46-c18cb676bcfb",
    "ExecuteTime": {
     "end_time": "2025-03-11T12:56:12.525481Z",
     "start_time": "2025-03-11T12:56:12.513684Z"
    }
   },
   "source": [
    "print(y_test)"
   ],
   "outputs": [
    {
     "name": "stdout",
     "output_type": "stream",
     "text": [
      "[0 1]\n"
     ]
    }
   ],
   "execution_count": 15
  },
  {
   "cell_type": "code",
   "metadata": {
    "id": "8wPE4Hb5NLhP",
    "ExecuteTime": {
     "end_time": "2025-03-11T12:56:12.596976Z",
     "start_time": "2025-03-11T12:56:12.581049Z"
    }
   },
   "source": [
    "from sklearn.preprocessing import StandardScaler\n",
    "sc = StandardScaler()\n",
    "x_train[:, 3:] = sc.fit_transform(x_train[:, 3:])\n",
    "x_test[:, 3:] = sc.transform(x_test[:, 3:])"
   ],
   "outputs": [],
   "execution_count": 16
  },
  {
   "cell_type": "code",
   "metadata": {
    "colab": {
     "base_uri": "https://localhost:8080/"
    },
    "id": "dJVHGwyZOC6U",
    "outputId": "b3d5f321-2dfa-4d29-d03c-8be37ffc84bc",
    "ExecuteTime": {
     "end_time": "2025-03-11T12:56:12.709859Z",
     "start_time": "2025-03-11T12:56:12.698367Z"
    }
   },
   "source": [
    "print(x_train)"
   ],
   "outputs": [
    {
     "name": "stdout",
     "output_type": "stream",
     "text": [
      "[[0.0 0.0 1.0 -0.19159184384578545 -1.0781259408412425]\n",
      " [0.0 1.0 0.0 -0.014117293757057777 -0.07013167641635372]\n",
      " [1.0 0.0 0.0 0.566708506533324 0.633562432710455]\n",
      " [0.0 0.0 1.0 -0.30453019390224867 -0.30786617274297867]\n",
      " [0.0 0.0 1.0 -1.9018011447007988 -1.420463615551582]\n",
      " [1.0 0.0 0.0 1.1475343068237058 1.232653363453549]\n",
      " [0.0 1.0 0.0 1.4379472069688968 1.5749910381638885]\n",
      " [1.0 0.0 0.0 -0.7401495441200351 -0.5646194287757332]]\n"
     ]
    }
   ],
   "execution_count": 17
  },
  {
   "cell_type": "code",
   "metadata": {
    "colab": {
     "base_uri": "https://localhost:8080/"
    },
    "id": "uVN7n0clOOTM",
    "outputId": "f5096fa3-767b-47dc-e862-fefdcae0c284",
    "ExecuteTime": {
     "end_time": "2025-03-11T12:56:12.793269Z",
     "start_time": "2025-03-11T12:56:12.773307Z"
    }
   },
   "source": [
    "print(x_test)"
   ],
   "outputs": [
    {
     "name": "stdout",
     "output_type": "stream",
     "text": [
      "[[0.0 1.0 0.0 -1.4661817944830124 -0.9069571034860727]\n",
      " [1.0 0.0 0.0 -0.44973664397484414 0.2056403393225306]]\n"
     ]
    }
   ],
   "execution_count": 18
  },
  {
   "cell_type": "code",
   "metadata": {
    "ExecuteTime": {
     "end_time": "2025-03-11T12:56:12.861491Z",
     "start_time": "2025-03-11T12:56:12.850353Z"
    }
   },
   "source": [],
   "outputs": [],
   "execution_count": null
  }
 ],
 "metadata": {
  "colab": {
   "collapsed_sections": [],
   "name": "Preprocessing_Data.ipynb",
   "provenance": []
  },
  "kernelspec": {
   "display_name": "Python 3 (ipykernel)",
   "language": "python",
   "name": "python3"
  },
  "language_info": {
   "codemirror_mode": {
    "name": "ipython",
    "version": 3
   },
   "file_extension": ".py",
   "mimetype": "text/x-python",
   "name": "python",
   "nbconvert_exporter": "python",
   "pygments_lexer": "ipython3",
   "version": "3.9.5"
  }
 },
 "nbformat": 4,
 "nbformat_minor": 1
}

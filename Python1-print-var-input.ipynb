{
 "cells": [
  {
   "cell_type": "markdown",
   "metadata": {},
   "source": [
    "# Python Basic-1\n",
    "- mengenal fungsi print();\n",
    "- tanda kurung buka;\n",
    "- tanda kutip;\n",
    "- kalimat 1 baris: Hello, World!;\n",
    "- fungsi beberapa tanda kutip lain;\n",
    "- tanda kurung tutup."
   ]
  },
  {
   "cell_type": "code",
   "metadata": {
    "ExecuteTime": {
     "end_time": "2025-03-11T08:59:15.708562Z",
     "start_time": "2025-03-11T08:59:15.701514Z"
    }
   },
   "source": [
    "print(\"Hello World!@#!#!$\")\n",
    "print(\"test\")"
   ],
   "outputs": [
    {
     "name": "stdout",
     "output_type": "stream",
     "text": [
      "Hello World!@#!#!$\n",
      "test\n"
     ]
    }
   ],
   "execution_count": 1
  },
  {
   "cell_type": "markdown",
   "metadata": {},
   "source": [
    "#### Latihan: The print() function\n",
    "\n",
    "- Cetak kalimat \"Hello, Python!\"\n",
    "- Cetak nama pertamamu\n",
    "- Cetak nama pertamamu tanpa petik\n",
    "- apakah ada bedanya double quote \"\" dan single quote '?"
   ]
  },
  {
   "cell_type": "code",
   "metadata": {
    "ExecuteTime": {
     "end_time": "2025-03-11T08:59:15.825713Z",
     "start_time": "2025-03-11T08:59:15.816563Z"
    }
   },
   "source": [
    "print(\"Hello, Python!\")\n",
    "print(\"Daniel\")\n",
    "print('Daniel')"
   ],
   "outputs": [
    {
     "name": "stdout",
     "output_type": "stream",
     "text": [
      "Hello, Python!\n",
      "Daniel\n",
      "Daniel\n"
     ]
    }
   ],
   "execution_count": 2
  },
  {
   "cell_type": "markdown",
   "metadata": {},
   "source": [
    "## Formatting dengan Special Character\n",
    "`\\' = karakter spesial \"escaping nature\"\n",
    "\n",
    "`\\n` = untuk enter\n",
    "\n",
    "`\\` = escaping karakter\n",
    "\n",
    "```python\n",
    "print() = berarti line kosong\n",
    "```\n",
    "\n",
    "Tidak boleh ada 2 perintah dalam 1 baris\n",
    "```python\n",
    "print(\"nama depan\") print (\"nama belakang\")\n",
    "```"
   ]
  },
  {
   "cell_type": "code",
   "metadata": {
    "ExecuteTime": {
     "end_time": "2025-03-11T08:59:17.225997Z",
     "start_time": "2025-03-11T08:59:17.218516Z"
    }
   },
   "source": [
    "print()\n",
    "\n",
    "print(\"Saya sudah sarapan tadi pagi\\n dan nanti siang makan lagi\")\n",
    "print(\"Saya sudah sarapan tadi pagi\\t dan nanti siang makan lagi\")"
   ],
   "outputs": [
    {
     "name": "stdout",
     "output_type": "stream",
     "text": [
      "\n",
      "Saya sudah sarapan tadi pagi\n",
      " dan nanti siang makan lagi\n",
      "Saya sudah sarapan tadi pagi\t dan nanti siang makan lagi\n"
     ]
    }
   ],
   "execution_count": 3
  },
  {
   "cell_type": "code",
   "metadata": {
    "ExecuteTime": {
     "end_time": "2025-03-11T08:59:17.288798Z",
     "start_time": "2025-03-11T08:59:17.281098Z"
    }
   },
   "source": "print(\"nama saya \\\"daniel\\\"\")",
   "outputs": [
    {
     "name": "stdout",
     "output_type": "stream",
     "text": [
      "nama saya \"daniel\"\n"
     ]
    }
   ],
   "execution_count": 4
  },
  {
   "cell_type": "code",
   "metadata": {
    "ExecuteTime": {
     "end_time": "2025-03-11T08:59:17.447490Z",
     "start_time": "2025-03-11T08:59:17.435971Z"
    }
   },
   "source": [
    "print(\"\\\"\")"
   ],
   "outputs": [
    {
     "name": "stdout",
     "output_type": "stream",
     "text": [
      "\"\n"
     ]
    }
   ],
   "execution_count": 5
  },
  {
   "cell_type": "code",
   "metadata": {
    "ExecuteTime": {
     "end_time": "2025-03-11T08:59:17.512874Z",
     "start_time": "2025-03-11T08:59:17.504846Z"
    }
   },
   "source": [
    "print(\"satu.\",\"dua.\",\"tiga.\")"
   ],
   "outputs": [
    {
     "name": "stdout",
     "output_type": "stream",
     "text": [
      "satu. dua. tiga.\n"
     ]
    }
   ],
   "execution_count": 6
  },
  {
   "cell_type": "code",
   "metadata": {
    "ExecuteTime": {
     "end_time": "2025-03-11T08:59:17.609554Z",
     "start_time": "2025-03-11T08:59:17.601402Z"
    }
   },
   "source": [
    "print(\"Nama saya\",\"Daniel\", end=\" \")\n",
    "print(\"Kristian\")"
   ],
   "outputs": [
    {
     "name": "stdout",
     "output_type": "stream",
     "text": [
      "Nama saya Daniel Kristian\n"
     ]
    }
   ],
   "execution_count": 7
  },
  {
   "cell_type": "code",
   "metadata": {
    "ExecuteTime": {
     "end_time": "2025-03-11T08:59:17.710779Z",
     "start_time": "2025-03-11T08:59:17.704639Z"
    }
   },
   "source": [
    "print(\"satu\",\"dua\",\"tiga\", sep=\", \")"
   ],
   "outputs": [
    {
     "name": "stdout",
     "output_type": "stream",
     "text": [
      "satu, dua, tiga\n"
     ]
    }
   ],
   "execution_count": 8
  },
  {
   "cell_type": "markdown",
   "metadata": {},
   "source": [
    "## Latihan: The Print Function\n",
    "\n",
    "Buatlah Program untuk menghasilkan output:\n",
    "`Programming***Essentials***in...Python`"
   ]
  },
  {
   "cell_type": "code",
   "metadata": {
    "ExecuteTime": {
     "end_time": "2025-03-11T08:59:17.796729Z",
     "start_time": "2025-03-11T08:59:17.786097Z"
    }
   },
   "source": [
    "#Clue\n",
    "print(\"Programming\",\"Essentials\",\"in\")\n",
    "print(\"Python\")"
   ],
   "outputs": [
    {
     "name": "stdout",
     "output_type": "stream",
     "text": [
      "Programming Essentials in\n",
      "Python\n"
     ]
    }
   ],
   "execution_count": 9
  },
  {
   "cell_type": "code",
   "metadata": {
    "ExecuteTime": {
     "end_time": "2025-03-11T08:59:17.922398Z",
     "start_time": "2025-03-11T08:59:17.907502Z"
    }
   },
   "source": [
    "#Programming***Essentials***in...PythonPython\n",
    "\n",
    "print(\"Programming\",\"Essentials\",\"in\", sep=\"***\", end=\"...\")\n",
    "print(\"Python\"*2)"
   ],
   "outputs": [
    {
     "name": "stdout",
     "output_type": "stream",
     "text": [
      "Programming***Essentials***in...PythonPython\n"
     ]
    }
   ],
   "execution_count": 10
  },
  {
   "cell_type": "markdown",
   "metadata": {},
   "source": [
    "## Latihan: Formatting the output\n",
    "Membuat duplikasi pola gambar bintang"
   ]
  },
  {
   "cell_type": "code",
   "metadata": {
    "ExecuteTime": {
     "end_time": "2025-03-11T08:59:17.986162Z",
     "start_time": "2025-03-11T08:59:17.977097Z"
    }
   },
   "source": [
    "#clue\n",
    "\n",
    "print(\"    *    \"*2)\n",
    "print(\"   * *   \"*2)\n",
    "print(\"  *   *  \"*2)\n",
    "print(\" *     * \"*2)\n",
    "print(\"***   ***\"*2)\n",
    "print(\"  *   *  \"*2)\n",
    "print(\"  *   *  \"*2)\n",
    "print(\"  *****  \"*2)"
   ],
   "outputs": [
    {
     "name": "stdout",
     "output_type": "stream",
     "text": [
      "    *        *    \n",
      "   * *      * *   \n",
      "  *   *    *   *  \n",
      " *     *  *     * \n",
      "***   ******   ***\n",
      "  *   *    *   *  \n",
      "  *   *    *   *  \n",
      "  *****    *****  \n"
     ]
    }
   ],
   "execution_count": 11
  },
  {
   "cell_type": "code",
   "metadata": {
    "ExecuteTime": {
     "end_time": "2025-03-11T08:59:18.068668Z",
     "start_time": "2025-03-11T08:59:18.056716Z"
    }
   },
   "source": [
    "print(\"    *\\n   * *\\n  *   *\\n *     *\\n***   ***\\n  *   *\\n  *   *\\n  *****\\n\"*2)"
   ],
   "outputs": [
    {
     "name": "stdout",
     "output_type": "stream",
     "text": [
      "    *\n",
      "   * *\n",
      "  *   *\n",
      " *     *\n",
      "***   ***\n",
      "  *   *\n",
      "  *   *\n",
      "  *****\n",
      "    *\n",
      "   * *\n",
      "  *   *\n",
      " *     *\n",
      "***   ***\n",
      "  *   *\n",
      "  *   *\n",
      "  *****\n",
      "\n"
     ]
    }
   ],
   "execution_count": 12
  },
  {
   "cell_type": "markdown",
   "metadata": {},
   "source": [
    "# Literal\n",
    "literal merupakan notasi untuk mensimbolkan nilai, dapat berupa string, boolean maupun angka (integer dan float)"
   ]
  },
  {
   "cell_type": "code",
   "metadata": {
    "ExecuteTime": {
     "end_time": "2025-03-11T08:59:18.158381Z",
     "start_time": "2025-03-11T08:59:18.149428Z"
    }
   },
   "source": [
    "print(\"2\"*2)\n",
    "print(2*2)\n",
    "\n",
    "print(type(\"2\"))\n",
    "print(type(2))"
   ],
   "outputs": [
    {
     "name": "stdout",
     "output_type": "stream",
     "text": [
      "22\n",
      "4\n",
      "<class 'str'>\n",
      "<class 'int'>\n"
     ]
    }
   ],
   "execution_count": 13
  },
  {
   "cell_type": "markdown",
   "metadata": {},
   "source": [
    "## Integers vs Floats"
   ]
  },
  {
   "cell_type": "code",
   "metadata": {
    "ExecuteTime": {
     "end_time": "2025-03-11T08:59:18.217700Z",
     "start_time": "2025-03-11T08:59:18.206351Z"
    }
   },
   "source": [
    "print(5, \"mempunyai tipe\", type(5))\n",
    "print(.5, \"mempunyai tipe\", type(.5))"
   ],
   "outputs": [
    {
     "name": "stdout",
     "output_type": "stream",
     "text": [
      "5 mempunyai tipe <class 'int'>\n",
      "0.5 mempunyai tipe <class 'float'>\n"
     ]
    }
   ],
   "execution_count": 14
  },
  {
   "cell_type": "markdown",
   "metadata": {},
   "source": [
    "\n",
    "# Penulisan Float dan Integer\n",
    "Python versi 3 membolehkan pemisahan digit integer dengan underscore \"_\"\n",
    "agar mudah dibaca\n",
    "```python\n",
    "print (10_000_000)```\n",
    "\n",
    "Float dipisahkan dengan .(titik) bukan ,(koma)\n",
    "cara penulisan float bisa 3 cara\n",
    "\n",
    "- 4.0\n",
    "- .4 (terbaca nol koma 4)\n",
    "- 4. (terbaca 4 koma nol)\n",
    "\n",
    "> 3e08 berarti $ 3 x 10 ^ 8 $  \n",
    "3e-08 berarti $ 3 x 10 ^ {-8} $\n"
   ]
  },
  {
   "cell_type": "markdown",
   "metadata": {},
   "source": [
    "## String"
   ]
  },
  {
   "cell_type": "markdown",
   "metadata": {},
   "source": [
    "Buatlah program untuk menghasilkan output `I'm Monty Python`"
   ]
  },
  {
   "cell_type": "code",
   "metadata": {
    "ExecuteTime": {
     "end_time": "2025-03-11T08:59:18.291925Z",
     "start_time": "2025-03-11T08:59:18.284610Z"
    }
   },
   "source": [],
   "outputs": [],
   "execution_count": null
  },
  {
   "cell_type": "markdown",
   "metadata": {},
   "source": [
    "## Booelan\n",
    "Logika benar salah, 1 bernilai benar (True) dan 0 bernilai salah (False)"
   ]
  },
  {
   "cell_type": "code",
   "metadata": {
    "ExecuteTime": {
     "end_time": "2025-03-11T08:59:18.325058Z",
     "start_time": "2025-03-11T08:59:18.316364Z"
    }
   },
   "source": [
    "print(True)\n",
    "print(False)\n",
    "\n",
    "print(4>2)\n",
    "print(3>4)"
   ],
   "outputs": [
    {
     "name": "stdout",
     "output_type": "stream",
     "text": [
      "True\n",
      "False\n",
      "True\n",
      "False\n"
     ]
    }
   ],
   "execution_count": 15
  },
  {
   "cell_type": "markdown",
   "metadata": {},
   "source": [
    "## None"
   ]
  },
  {
   "cell_type": "code",
   "metadata": {
    "ExecuteTime": {
     "end_time": "2025-03-11T08:59:18.429004Z",
     "start_time": "2025-03-11T08:59:18.419361Z"
    }
   },
   "source": [
    "print()"
   ],
   "outputs": [
    {
     "name": "stdout",
     "output_type": "stream",
     "text": [
      "\n"
     ]
    }
   ],
   "execution_count": 16
  },
  {
   "cell_type": "markdown",
   "metadata": {},
   "source": [
    "## Latihan: Python literals - strings\n",
    "Buat output seperti ini dalam satu line <br/>\n",
    "`\"I'm\"`<br/>\n",
    "`\"\"learning\"\"`<br/>\n",
    "`\"\"\"Python\"\"\"`"
   ]
  },
  {
   "cell_type": "code",
   "metadata": {
    "ExecuteTime": {
     "end_time": "2025-03-11T08:59:18.500917Z",
     "start_time": "2025-03-11T08:59:18.490263Z"
    }
   },
   "source": [
    "print('\"I\\'m\"\\n\"\"learning\"\"\\n\"\"\"Python\"\"\"')\n",
    "\n",
    "print(\"\"\"\n",
    "\"I'm\"\n",
    "\"\"learning\"\"\n",
    "\\\"\"\"Python\"\"\\\"\n",
    "\"\"\")"
   ],
   "outputs": [
    {
     "name": "stdout",
     "output_type": "stream",
     "text": [
      "\"I'm\"\n",
      "\"\"learning\"\"\n",
      "\"\"\"Python\"\"\"\n",
      "\n",
      "\"I'm\"\n",
      "\"\"learning\"\"\n",
      "\"\"\"Python\"\"\"\n",
      "\n"
     ]
    }
   ],
   "execution_count": 17
  },
  {
   "cell_type": "markdown",
   "metadata": {},
   "source": [
    "# Operator"
   ]
  },
  {
   "cell_type": "markdown",
   "metadata": {},
   "source": [
    "### Operator Aritmetika\n",
    "\n",
    "| Operator | Arti                                                                                          | Contoh                  |\n",
    "|----------|--------------------------------------------------------------------------------------------------|--------------------------|\n",
    "| +        | Penambahan                                                                   | x + y                 |\n",
    "| -        | Pengurangan                                              | x - y                  |\n",
    "| *        | Perkalian                                                                            | x * y                    |\n",
    "| /        | Pembagian                                 | x / y                    |\n",
    "| %        | Modulo - Sisa Pembagian                                 | x % y (sisa pembagian of x/y) |\n",
    "| //       | Pembagian dan dibulatkan ke bawah | x // y                   |\n",
    "| **       | Eksponen - Pangkat                                             | x**y (x pangkat y)  |"
   ]
  },
  {
   "cell_type": "code",
   "metadata": {
    "ExecuteTime": {
     "end_time": "2025-03-11T08:59:18.578188Z",
     "start_time": "2025-03-11T08:59:18.571377Z"
    }
   },
   "source": [
    "print(2 ** 3)\n",
    "print(2 ** 3.)\n",
    "print(2. ** 3.)\n",
    "print(2. ** 3)"
   ],
   "outputs": [
    {
     "name": "stdout",
     "output_type": "stream",
     "text": [
      "8\n",
      "8.0\n",
      "8.0\n",
      "8.0\n"
     ]
    }
   ],
   "execution_count": 18
  },
  {
   "cell_type": "code",
   "metadata": {
    "ExecuteTime": {
     "end_time": "2025-03-11T08:59:18.636695Z",
     "start_time": "2025-03-11T08:59:18.626767Z"
    }
   },
   "source": [
    "print(10 / 3)\n",
    "print(10 // 3)\n",
    "\n",
    "print(6 / 3.)\n",
    "print(6 // 3.)\n",
    "\n",
    "print(-4 + 4)\n",
    "print(-4. + 8)"
   ],
   "outputs": [
    {
     "name": "stdout",
     "output_type": "stream",
     "text": [
      "3.3333333333333335\n",
      "3\n",
      "2.0\n",
      "2.0\n",
      "0\n",
      "4.0\n"
     ]
    }
   ],
   "execution_count": 19
  },
  {
   "cell_type": "markdown",
   "metadata": {},
   "source": [
    "### Urutan Operator"
   ]
  },
  {
   "cell_type": "markdown",
   "metadata": {},
   "source": [
    "| Prioritas| Operator |        |\n",
    "|----------|----------|--------|\n",
    "| 1        | +, -     | unary  |\n",
    "| 2        | **       |        |\n",
    "| 3        | *,/,//,% |        |\n",
    "| 4        | +, -     | binary |"
   ]
  },
  {
   "cell_type": "code",
   "metadata": {
    "ExecuteTime": {
     "end_time": "2025-03-11T08:59:18.700885Z",
     "start_time": "2025-03-11T08:59:18.679522Z"
    }
   },
   "source": [
    "2 + 3 *5"
   ],
   "outputs": [
    {
     "data": {
      "text/plain": [
       "17"
      ]
     },
     "execution_count": 20,
     "metadata": {},
     "output_type": "execute_result"
    }
   ],
   "execution_count": 20
  },
  {
   "cell_type": "code",
   "metadata": {
    "ExecuteTime": {
     "end_time": "2025-03-11T08:59:18.766234Z",
     "start_time": "2025-03-11T08:59:18.756916Z"
    }
   },
   "source": [
    "print(9 % 6 % 2)\n",
    "print(9 % 6)\n",
    "print(3 % 2)\n",
    "\n",
    "print(2 ** 2 ** 3)\n",
    "print(2 ** 2)\n",
    "print(2 ** 8)"
   ],
   "outputs": [
    {
     "name": "stdout",
     "output_type": "stream",
     "text": [
      "1\n",
      "3\n",
      "1\n",
      "256\n",
      "4\n",
      "256\n"
     ]
    }
   ],
   "execution_count": 21
  },
  {
   "cell_type": "code",
   "metadata": {
    "ExecuteTime": {
     "end_time": "2025-03-11T08:59:18.835414Z",
     "start_time": "2025-03-11T08:59:18.825978Z"
    }
   },
   "source": [
    "print((5 * ((25 % 13)+100) / (2 * 13)) // 2)"
   ],
   "outputs": [
    {
     "name": "stdout",
     "output_type": "stream",
     "text": [
      "10.0\n"
     ]
    }
   ],
   "execution_count": 22
  },
  {
   "cell_type": "markdown",
   "metadata": {},
   "source": [
    "# Variabel\n",
    "- Apa itu variabel?\n",
    "- Bagaimana Aturan Penamaannya?"
   ]
  },
  {
   "cell_type": "code",
   "metadata": {
    "ExecuteTime": {
     "end_time": "2025-03-11T08:59:18.913871Z",
     "start_time": "2025-03-11T08:59:18.900729Z"
    }
   },
   "source": [
    "var = 1\n",
    "print(var)"
   ],
   "outputs": [
    {
     "name": "stdout",
     "output_type": "stream",
     "text": [
      "1\n"
     ]
    }
   ],
   "execution_count": 23
  },
  {
   "cell_type": "markdown",
   "metadata": {},
   "source": [
    "Tulis rumus ini dalam kode program:<br/> $c=\\sqrt{a^2+b^2}$"
   ]
  },
  {
   "cell_type": "code",
   "metadata": {
    "ExecuteTime": {
     "end_time": "2025-03-11T08:59:18.975691Z",
     "start_time": "2025-03-11T08:59:18.964818Z"
    }
   },
   "source": [
    "a=2.\n",
    "b=3.\n",
    "c=(a**2 + b**2) ** 0.5\n",
    "print(\"c = \", c)"
   ],
   "outputs": [
    {
     "name": "stdout",
     "output_type": "stream",
     "text": [
      "c =  3.605551275463989\n"
     ]
    }
   ],
   "execution_count": 24
  },
  {
   "cell_type": "markdown",
   "metadata": {},
   "source": [
    "## Latihan: Variables\n",
    "\n",
    "<b>Cerita Pendek:</b> \n",
    "\n",
    "Suatu waktu di kebun apel, Darjo memiliki 3 apel, Darno memiliki 5 apel dan Waginem memiliki 6 Apel. mereka sangat bahagia dan hidup lama. selesai.\n",
    "\n",
    "Tugas Anda\n",
    "- buat variabe : `Darjo`, `Darno` dan `Waginem`\n",
    "- isi nilai sesuai dengan jumlah apel yang mereka miliki\n",
    "- cetak nama variabel dan jumlah apel setiap variabel dalam 1 baris, pisahkan dengan koma\n",
    "- buat variabel baru dengan nama `totalApel` yang berisi penjumlahan seluruh apel yang mereka miliki\n",
    "- coba otak atik code dengan membuat variable baru, diisi dengan nilai lain, dan dihitung dengan operator aritmetik lainnya"
   ]
  },
  {
   "cell_type": "code",
   "metadata": {
    "ExecuteTime": {
     "end_time": "2025-03-11T08:59:20.375947Z",
     "start_time": "2025-03-11T08:59:20.367948Z"
    }
   },
   "source": [
    "Darjo = 2\n",
    "Darno = 5\n",
    "Waginem = 6"
   ],
   "outputs": [],
   "execution_count": 25
  },
  {
   "cell_type": "markdown",
   "metadata": {},
   "source": [
    "## Latihan: Variables: a simple converter\n",
    "\n",
    "Mil dan kilometer adalah satuan panjang\n",
    "\n",
    "1 mil memiliki panjang sekitar 1.61 kilometer, buatlah program konversi di bawah ini\n",
    "- mil ke kilometer;\n",
    "- kilometer to mil.\n",
    "jangan ganti apapun terhadap kode yang sudah ada. tulis kodemu pada tanda ###, kemudian hapus tanda tersebut. Uji kode Anda dengan data yang kami sajikan dalam source code"
   ]
  },
  {
   "cell_type": "markdown",
   "metadata": {},
   "source": [
    "Kode:\n",
    "```python\n",
    "kilometer = 12.25\n",
    "mil = 7.38\n",
    "\n",
    "mil_ke_kilometer = ###\n",
    "kilometer_ke_mil = ###\n",
    "\n",
    "print(mil, \"1 mil adalah\", round(miles_to_kilometers, 2), \"kilometer\")\n",
    "print(kilometer, \"1 kilometer adalah\", round(kilometers_to_miles, 2), \"mil\")\n",
    "```"
   ]
  },
  {
   "cell_type": "code",
   "metadata": {
    "ExecuteTime": {
     "end_time": "2025-03-11T08:59:20.430331Z",
     "start_time": "2025-03-11T08:59:20.417907Z"
    }
   },
   "source": [
    "kilometer = 12.25\n",
    "mil = 7.38\n",
    "\n",
    "miles_to_kilometers = mil * 1.61\n",
    "kilometers_to_miles = kilometer / 1.61\n",
    "\n",
    "print(mil, \"1 mil adalah\", round(miles_to_kilometers, 2), \"kilometer\")\n",
    "print(kilometer, \"1 kilometer adalah\", round(kilometers_to_miles, 2), \"mil\")"
   ],
   "outputs": [
    {
     "name": "stdout",
     "output_type": "stream",
     "text": [
      "7.38 1 mil adalah 11.88 kilometer\n",
      "12.25 1 kilometer adalah 7.61 mil\n"
     ]
    }
   ],
   "execution_count": 26
  },
  {
   "cell_type": "markdown",
   "metadata": {},
   "source": [
    "## Latihan: Operators and expressions\n",
    "\n",
    "Skenario\n",
    "lihatlah kode dalam editor, nilai tersebut termasuk tipe float, letakkan nilai tersebut dalam variabel x, dan print variabel tersebut dalam variabel y. Tugasmu adalah melengkapi kode di bawah ini untk menyelesaikan persamaan di bawah\n",
    "\n",
    "$3x^3 - 2x^2 + 3x - 1$\n",
    "\n",
    "Hasil harus disimpan dalam variabel y.\n",
    "ingat bahwa aljabar klasik sering menghilangkan operator perkalian, kamu harus menggunakannya secara eksplisit. Ingat bagaimana cara mengubah tipe data untuk memastikan bahwa x bertipe float.\n",
    "\n",
    "usahakan kodemu mudah dibaca, uji kode dengan data yang telah kami berikan.\n",
    "\n",
    "```python\n",
    "x =  # hardcode your test data here\n",
    "x = float(x)\n",
    "# tulis kodemu disini\n",
    "print(\"y =\", y)\n",
    "```\n",
    "\n",
    "Test Data:\n",
    "```python\n",
    "#input\n",
    "x = 0\n",
    "x = 1\n",
    "x = -1\n",
    "\n",
    "#output\n",
    "y = -1.0\n",
    "y = 3.0\n",
    "y = -9.0\n",
    "```"
   ]
  },
  {
   "cell_type": "code",
   "metadata": {
    "ExecuteTime": {
     "end_time": "2025-03-11T08:59:20.478543Z",
     "start_time": "2025-03-11T08:59:20.469495Z"
    }
   },
   "source": [
    "var = 2\n",
    "var = 3\n",
    "print(var)"
   ],
   "outputs": [
    {
     "name": "stdout",
     "output_type": "stream",
     "text": [
      "3\n"
     ]
    }
   ],
   "execution_count": 27
  },
  {
   "cell_type": "markdown",
   "metadata": {},
   "source": [
    "### Exercise\n",
    "\n",
    "Apa outputnya?\n",
    "```python\n",
    "var = 2\n",
    "var = 3\n",
    "print(var)\n",
    "```\n",
    "\n",
    "Nama variabel mana yang ilegal?\n",
    "```python\n",
    "my_var\n",
    "m\n",
    "101\n",
    "averylongvariablename\n",
    "m101\n",
    "m 101\n",
    "Del\n",
    "del\n",
    "```\n",
    "\n",
    "Apa Outputnya?\n",
    "```python\n",
    "a = '1'\n",
    "b = \"1\"\n",
    "print(a + b)\n",
    "```\n",
    "\n",
    "Apa outputnya?\n",
    "\n",
    "```python\n",
    "a = 6\n",
    "b = 3\n",
    "a /= 2 * b\n",
    "print(a)\n",
    "```"
   ]
  },
  {
   "cell_type": "markdown",
   "metadata": {},
   "source": [
    "# Comments\n",
    "Latihan: mana yang seharusnya menjadi komentar, mana yang tidak"
   ]
  },
  {
   "cell_type": "code",
   "metadata": {
    "ExecuteTime": {
     "end_time": "2025-03-11T08:59:20.571261Z",
     "start_time": "2025-03-11T08:59:20.557248Z"
    }
   },
   "source": [
    "#test\n",
    "print(\"Hai...\") \n",
    "#test1\n",
    "#test2"
   ],
   "outputs": [
    {
     "name": "stdout",
     "output_type": "stream",
     "text": [
      "Hai...\n"
     ]
    }
   ],
   "execution_count": 28
  },
  {
   "cell_type": "markdown",
   "metadata": {},
   "source": [
    "# How to talk to a computer \n",
    "katakunci `input()`<br/>\n",
    "hasil dari fungsi `input()` adalah <b>string</b>.<br/>\n",
    "Tidak bisa langsung dikenakan ke operasi aritmetika"
   ]
  },
  {
   "cell_type": "code",
   "metadata": {
    "ExecuteTime": {
     "end_time": "2025-03-11T10:16:11.717079Z",
     "start_time": "2025-03-11T08:59:20.664985Z"
    }
   },
   "source": [
    "print(\"Katakan sesuatu...\")\n",
    "sesuatu = input()\n",
    "print(\"mmmmm\", sesuatu, \" Oke\")"
   ],
   "outputs": [
    {
     "name": "stdout",
     "output_type": "stream",
     "text": [
      "Katakan sesuatu...\n",
      "mmmmm 2  Oke\n"
     ]
    }
   ],
   "execution_count": 29
  },
  {
   "cell_type": "markdown",
   "metadata": {},
   "source": [
    "### type casting"
   ]
  },
  {
   "cell_type": "code",
   "metadata": {
    "ExecuteTime": {
     "end_time": "2025-03-11T10:16:14.529494Z",
     "start_time": "2025-03-11T10:16:11.996844Z"
    }
   },
   "source": [
    "angka = float(input(\"Masukan Angka : \"))\n",
    "print(\"Pangkat duanya adalah \", angka**2)"
   ],
   "outputs": [
    {
     "name": "stdout",
     "output_type": "stream",
     "text": [
      "Pangkat duanya adalah  1.0\n"
     ]
    }
   ],
   "execution_count": 30
  },
  {
   "attachments": {
    "image.png": {
     "image/png": "[encoded data removed]"
    }
   },
   "cell_type": "markdown",
   "metadata": {},
   "source": [
    "#### Replication\n",
    "coba membuat cetak bangun datar persegi dengan replication\n",
    "\n",
    "![image.png](attachment:image.png)"
   ]
  },
  {
   "cell_type": "code",
   "metadata": {
    "ExecuteTime": {
     "end_time": "2025-03-11T10:16:14.702594Z",
     "start_time": "2025-03-11T10:16:14.690248Z"
    }
   },
   "source": [
    "print(\"+\" + 10*\"-\" + \"+\")\n",
    "print((\"|\" + 10*\" \" + \"|\\n\") * 5, end=\"\")\n",
    "print(\"+\" + 10*\"-\" + \"+\")"
   ],
   "outputs": [
    {
     "name": "stdout",
     "output_type": "stream",
     "text": [
      "+----------+\n",
      "|          |\n",
      "|          |\n",
      "|          |\n",
      "|          |\n",
      "|          |\n",
      "+----------+\n"
     ]
    }
   ],
   "execution_count": 31
  },
  {
   "cell_type": "markdown",
   "metadata": {},
   "source": [
    "## Latihan : Simple input and output\n",
    "Coba utak atik perintah kode dibawah ini\n",
    "``` python\n",
    "# Masukkan nilai a dalam float\n",
    "# Masukkan nilai b dalam float\n",
    "\n",
    "# hitung hasil penambahan disini\n",
    "# hitung hasil pengurangan disini\n",
    "# hitung hasil perkalian disini\n",
    "# hitung hasil pembagian disini\n",
    "\n",
    "\n",
    "print(\"\\nYeahhhh\")\n",
    "```"
   ]
  },
  {
   "cell_type": "markdown",
   "metadata": {},
   "source": [
    "## Latihan: Operators and expressions\n",
    "Kerjakan rumus berikut:\n",
    "<img src=\"images/modul2_pembagian.PNG\" width=200px />\n",
    "\n",
    "input/output yang diharapkan\n",
    "```python\n",
    "x = 1\n",
    "y = 0.6000000000000001\n",
    "\n",
    "x = 10\n",
    "y = 0.09901951266867294\n",
    "```"
   ]
  },
  {
   "cell_type": "code",
   "metadata": {
    "ExecuteTime": {
     "end_time": "2025-03-11T10:16:14.819796Z",
     "start_time": "2025-03-11T10:16:14.809113Z"
    }
   },
   "source": [
    "print(\"\\\"I'm\\\"\\n \\\"\\\"learning\\\"\\\"\\n \\\"\\\"\\\"Python\\\"\\\"\\\"\\n\")"
   ],
   "outputs": [
    {
     "name": "stdout",
     "output_type": "stream",
     "text": [
      "\"I'm\"\n",
      " \"\"learning\"\"\n",
      " \"\"\"Python\"\"\"\n",
      "\n"
     ]
    }
   ],
   "execution_count": 32
  }
 ],
 "metadata": {
  "kernelspec": {
   "display_name": "Python 3 (ipykernel)",
   "language": "python",
   "name": "python3"
  },
  "language_info": {
   "codemirror_mode": {
    "name": "ipython",
    "version": 3
   },
   "file_extension": ".py",
   "mimetype": "text/x-python",
   "name": "python",
   "nbconvert_exporter": "python",
   "pygments_lexer": "ipython3",
   "version": "3.9.5"
  }
 },
 "nbformat": 4,
 "nbformat_minor": 4
}
